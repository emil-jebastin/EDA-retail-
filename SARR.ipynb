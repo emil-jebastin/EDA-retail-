{
  "nbformat": 4,
  "nbformat_minor": 0,
  "metadata": {
    "colab": {
      "provenance": [],
      "authorship_tag": "ABX9TyNFLgG/rcZSL0YQxu8ZU8pw",
      "include_colab_link": true
    },
    "kernelspec": {
      "name": "python3",
      "display_name": "Python 3"
    },
    "language_info": {
      "name": "python"
    }
  },
  "cells": [
    {
      "cell_type": "markdown",
      "metadata": {
        "id": "view-in-github",
        "colab_type": "text"
      },
      "source": [
        "<a href=\"https://colab.research.google.com/github/emil-jebastin/EDA-retail-/blob/main/SARR.ipynb\" target=\"_parent\"><img src=\"https://colab.research.google.com/assets/colab-badge.svg\" alt=\"Open In Colab\"/></a>"
      ]
    },
    {
      "cell_type": "code",
      "source": [
        "import re\n",
        "import nltk\n",
        "import numpy as np\n",
        "import pandas as pd\n",
        "from sklearn.feature_extraction.text import CountVectorizer\n",
        "from sklearn.model_selection import train_test_split\n",
        "from sklearn.naive_bayes import MultinomialNB\n",
        "from sklearn.metrics import accuracy_score, precision_score, recall_score\n",
        "\n",
        "# Load the data\n",
        "data = pd.read_csv('Restaurant_Reviews.tsv', delimiter='\\t', quoting=3)"
      ],
      "metadata": {
        "id": "f6hS-JEuHKp0"
      },
      "execution_count": 154,
      "outputs": []
    },
    {
      "cell_type": "code",
      "source": [
        "# Remove stop words\n",
        "stop_words = set(nltk.corpus.stopwords.words(\"english\"))\n",
        "corpus = [\" \".join([word for word in text.split() if word not in stop_words]) for text in data[\"Review\"]]"
      ],
      "metadata": {
        "id": "vg2rcthPVWci"
      },
      "execution_count": 155,
      "outputs": []
    },
    {
      "cell_type": "code",
      "source": [
        "import nltk\n",
        "import re\n",
        "nltk.download('stopwords')\n",
        "from nltk.corpus import stopwords\n",
        "from nltk.stem.porter import PorterStemmer"
      ],
      "metadata": {
        "colab": {
          "base_uri": "https://localhost:8080/"
        },
        "id": "R0BdBwCeVzE3",
        "outputId": "b7b9382f-ffb1-4999-bcf7-454b5f137c31"
      },
      "execution_count": 156,
      "outputs": [
        {
          "output_type": "stream",
          "name": "stderr",
          "text": [
            "[nltk_data] Downloading package stopwords to /root/nltk_data...\n",
            "[nltk_data]   Package stopwords is already up-to-date!\n"
          ]
        }
      ]
    },
    {
      "cell_type": "code",
      "source": [
        "corpus = []\n",
        "for i in range(0,1000):\n",
        "     review = re.sub(pattern='[^a-zA-Z]',repl= ' ', string=data['Review'] [i])\n",
        "     review = review.lower()\n",
        "     review_words = review.split()\n",
        "     review_words = [word for word in review_words if not word in set(stopwords.words('english'))]\n",
        "     ps = PorterStemmer()\n",
        "     review = [ps.stem(word) for word in review_words]\n",
        "     review = ' '.join(review)\n",
        "     corpus.append(review)"
      ],
      "metadata": {
        "id": "_lBd_F7-VXaT"
      },
      "execution_count": 157,
      "outputs": []
    },
    {
      "cell_type": "code",
      "source": [
        "\n",
        "\n",
        "# Create the TF-IDF model\n",
        "cv = CountVectorizer(max_features=1500)\n",
        "x = cv.fit_transform(corpus)\n",
        "\n",
        "# Split the data into training and test sets\n",
        "y = data[\"Liked\"]\n",
        "x_train, x_test, y_train, y_test = train_test_split(x, y, test_size=0.20, random_state=2)\n",
        "\n",
        "# Train the model\n",
        "model = MultinomialNB(alpha=0.9)\n",
        "model.fit(x_train, y_train)\n",
        "\n",
        "# Make predictions on the test set\n",
        "y_pred = model.predict(x_test)\n",
        "\n",
        "# Evaluation\n",
        "score1 = accuracy_score(y_test, y_pred)\n",
        "score2 = precision_score(y_test, y_pred)\n",
        "score3 = recall_score(y_test, y_pred)\n",
        "\n",
        "print(\"Accuracy score is: {} %\".format(round(score1 * 100, 2)))\n",
        "print(\"Precision score is: {} %\".format(round(score2 * 100, 2)))\n",
        "print(\"Recall score is: {} %\".format(round(score3 * 100, 2)))\n"
      ],
      "metadata": {
        "colab": {
          "base_uri": "https://localhost:8080/"
        },
        "id": "BSfuIK5KWiI9",
        "outputId": "6bb938b8-1e20-4b79-b5b0-703dd4035d96"
      },
      "execution_count": 181,
      "outputs": [
        {
          "output_type": "stream",
          "name": "stdout",
          "text": [
            "Accuracy score is: 82.5 %\n",
            "Precision score is: 77.14 %\n",
            "Recall score is: 88.04 %\n"
          ]
        }
      ]
    },
    {
      "cell_type": "code",
      "source": [
        "\n",
        "from sklearn.metrics import accuracy_score\n",
        "\n",
        "best_accuracy = 0.0\n",
        "alpha_val = 0.0\n",
        "\n",
        "for i in np.arange(0.1, 1.1, 0.1):\n",
        "    temp_classifier = MultinomialNB(alpha=i)\n",
        "    temp_classifier.fit(x_train, y_train)\n",
        "    temp_y_pred = temp_classifier.predict(x_test)\n",
        "    score = accuracy_score(y_test, temp_y_pred)\n",
        "    print(\"Accuracy score for alpha {} is: {:.2f}%\".format(round(i, 1), round(score * 100, 2)))\n",
        "\n",
        "    if score > best_accuracy:\n",
        "        best_accuracy = score\n",
        "        alpha_val = i\n",
        "\n",
        "print('------------------------')\n",
        "print('The best accuracy is {:.2f}% with alpha value as {}'.format(round(best_accuracy * 100, 2), round(alpha_val,1)))"
      ],
      "metadata": {
        "colab": {
          "base_uri": "https://localhost:8080/"
        },
        "id": "rx7Hm1TTOJtN",
        "outputId": "742eec64-c343-455d-e7d1-39b8555e9343"
      },
      "execution_count": 182,
      "outputs": [
        {
          "output_type": "stream",
          "name": "stdout",
          "text": [
            "Accuracy score for alpha 0.1 is: 80.00%\n",
            "Accuracy score for alpha 0.2 is: 81.00%\n",
            "Accuracy score for alpha 0.3 is: 81.00%\n",
            "Accuracy score for alpha 0.4 is: 81.50%\n",
            "Accuracy score for alpha 0.5 is: 80.50%\n",
            "Accuracy score for alpha 0.6 is: 80.50%\n",
            "Accuracy score for alpha 0.7 is: 80.50%\n",
            "Accuracy score for alpha 0.8 is: 81.00%\n",
            "Accuracy score for alpha 0.9 is: 82.50%\n",
            "Accuracy score for alpha 1.0 is: 82.00%\n",
            "------------------------\n",
            "The best accuracy is 82.50% with alpha value as 0.9\n"
          ]
        }
      ]
    },
    {
      "cell_type": "code",
      "source": [
        "def predict_sentiment(sample_review):\n",
        "\n",
        "  # Convert the sample review to lowercase.\n",
        "  sample_review = sample_review.lower()\n",
        "\n",
        "  # Remove stop words.\n",
        "  sample_review_words = sample_review.split()\n",
        "  sample_review_words = [word for word in sample_review_words if word not in set(stopwords.words('english'))]\n",
        "\n",
        "  # Transform the sample review into a TF-IDF vector.\n",
        "  sample_review_vector = count_vectorizer.transform([sample_review]).toarray()\n",
        "\n",
        "  # Make a prediction.\n",
        "  prediction = classifier.predict(sample_review_vector)\n",
        "\n",
        "  # Return the predicted sentiment.\n",
        "  if prediction == 1:\n",
        "    return \"POSITIVE\"\n",
        "  else:\n",
        "    return \"NEGATIVE\"\n",
        "\n",
        "\n",
        "# Sample review\n",
        "sample_review = 'The food was absolutely wonderful, from preparation to presentation , very pleasing'\n",
        "\n",
        "# Predict the sentiment of the sample review.\n",
        "predicted_sentiment = predict_sentiment(sample_review)\n",
        "\n",
        "# Print the predicted sentiment.\n",
        "print(\"This is a {} review.\".format(predicted_sentiment))"
      ],
      "metadata": {
        "colab": {
          "base_uri": "https://localhost:8080/"
        },
        "id": "mde5Zrl0BgSG",
        "outputId": "1838d247-b559-40d8-d54a-f8cea04c0c28"
      },
      "execution_count": 183,
      "outputs": [
        {
          "output_type": "stream",
          "name": "stdout",
          "text": [
            "This is a POSITIVE review.\n"
          ]
        }
      ]
    }
  ]
}