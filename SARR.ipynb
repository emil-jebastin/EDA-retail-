{
  "nbformat": 4,
  "nbformat_minor": 0,
  "metadata": {
    "colab": {
      "provenance": [],
      "authorship_tag": "ABX9TyMGRjr2KmEzSMRre0KuqoJr"
    },
    "kernelspec": {
      "name": "python3",
      "display_name": "Python 3"
    },
    "language_info": {
      "name": "python"
    }
  },
  "cells": [
    {
      "cell_type": "code",
      "source": [
        "# Import necessary libraries\n",
        "import re\n",
        "import nltk\n",
        "import numpy as np\n",
        "import pandas as pd\n",
        "from sklearn.feature_extraction.text import CountVectorizer\n",
        "from sklearn.model_selection import train_test_split\n",
        "from sklearn.naive_bayes import MultinomialNB\n",
        "from sklearn.metrics import accuracy_score, precision_score, recall_score"
      ],
      "metadata": {
        "id": "f6hS-JEuHKp0"
      },
      "execution_count": 190,
      "outputs": []
    },
    {
      "cell_type": "code",
      "source": [
        "# Load the data from the CSV file\n",
        "data = pd.read_csv('Restaurant_Reviews.tsv', delimiter='\\t')"
      ],
      "metadata": {
        "id": "tdzrBQmEzWsT"
      },
      "execution_count": null,
      "outputs": []
    },
    {
      "cell_type": "code",
      "source": [
        "# Import NLTK libraries for text preprocessing\n",
        "import nltk\n",
        "import re\n",
        "from nltk.corpus import stopwords\n",
        "from nltk.stem.porter import PorterStemmer"
      ],
      "metadata": {
        "id": "R0BdBwCeVzE3"
      },
      "execution_count": 191,
      "outputs": []
    },
    {
      "cell_type": "code",
      "source": [
        "# Initialize an empty list to store preprocessed reviews\n",
        "corpus = []\n",
        "\n",
        "# Loop through each review in the dataset for preprocessing\n",
        "for i in range(0, 1000):\n",
        "     # Remove non-alphabetical characters and replace with a space\n",
        "     review = re.sub(pattern='[^a-zA-Z]', repl=' ', string=data['Review'][i])\n",
        "     # Convert text to lowercase\n",
        "     review = review.lower()\n",
        "     # Tokenize the review into words\n",
        "     review_words = review.split()\n",
        "     # Remove stopwords\n",
        "     review_words = [word for word in review_words if not word in set(stopwords.words('english'))]\n",
        "     # Perform stemming using Porter Stemmer\n",
        "     ps = PorterStemmer()\n",
        "     review = [ps.stem(word) for word in review_words]\n",
        "     # Join the stemmed words back into a review\n",
        "     review = ' '.join(review)\n",
        "     # Append the preprocessed review to the corpus\n",
        "     corpus.append(review)"
      ],
      "metadata": {
        "id": "_lBd_F7-VXaT"
      },
      "execution_count": 192,
      "outputs": []
    },
    {
      "cell_type": "code",
      "source": [
        "# Creating a Bag of Words model using CountVectorizer\n",
        "cv = CountVectorizer(max_features=1500)\n",
        "x = cv.fit_transform(corpus)"
      ],
      "metadata": {
        "id": "Psvj6PLSzsYY"
      },
      "execution_count": null,
      "outputs": []
    },
    {
      "cell_type": "code",
      "source": [
        "# Split the data into training and test sets\n",
        "y = data[\"Liked\"]\n",
        "x_train, x_test, y_train, y_test = train_test_split(x, y, test_size=0.20, random_state=2)"
      ],
      "metadata": {
        "id": "dpVw5CgdztlI"
      },
      "execution_count": 235,
      "outputs": []
    },
    {
      "cell_type": "code",
      "source": [
        "# Train a Multinomial Naive Bayes model\n",
        "model = MultinomialNB(alpha=0.9)\n",
        "model.fit(x_train, y_train)"
      ],
      "metadata": {
        "colab": {
          "base_uri": "https://localhost:8080/",
          "height": 75
        },
        "id": "fyGxlnKoz0CU",
        "outputId": "7b096cfd-b798-452e-fcf6-aa004040da69"
      },
      "execution_count": 241,
      "outputs": [
        {
          "output_type": "execute_result",
          "data": {
            "text/plain": [
              "MultinomialNB(alpha=0.9)"
            ],
            "text/html": [
              "<style>#sk-container-id-6 {color: black;background-color: white;}#sk-container-id-6 pre{padding: 0;}#sk-container-id-6 div.sk-toggleable {background-color: white;}#sk-container-id-6 label.sk-toggleable__label {cursor: pointer;display: block;width: 100%;margin-bottom: 0;padding: 0.3em;box-sizing: border-box;text-align: center;}#sk-container-id-6 label.sk-toggleable__label-arrow:before {content: \"▸\";float: left;margin-right: 0.25em;color: #696969;}#sk-container-id-6 label.sk-toggleable__label-arrow:hover:before {color: black;}#sk-container-id-6 div.sk-estimator:hover label.sk-toggleable__label-arrow:before {color: black;}#sk-container-id-6 div.sk-toggleable__content {max-height: 0;max-width: 0;overflow: hidden;text-align: left;background-color: #f0f8ff;}#sk-container-id-6 div.sk-toggleable__content pre {margin: 0.2em;color: black;border-radius: 0.25em;background-color: #f0f8ff;}#sk-container-id-6 input.sk-toggleable__control:checked~div.sk-toggleable__content {max-height: 200px;max-width: 100%;overflow: auto;}#sk-container-id-6 input.sk-toggleable__control:checked~label.sk-toggleable__label-arrow:before {content: \"▾\";}#sk-container-id-6 div.sk-estimator input.sk-toggleable__control:checked~label.sk-toggleable__label {background-color: #d4ebff;}#sk-container-id-6 div.sk-label input.sk-toggleable__control:checked~label.sk-toggleable__label {background-color: #d4ebff;}#sk-container-id-6 input.sk-hidden--visually {border: 0;clip: rect(1px 1px 1px 1px);clip: rect(1px, 1px, 1px, 1px);height: 1px;margin: -1px;overflow: hidden;padding: 0;position: absolute;width: 1px;}#sk-container-id-6 div.sk-estimator {font-family: monospace;background-color: #f0f8ff;border: 1px dotted black;border-radius: 0.25em;box-sizing: border-box;margin-bottom: 0.5em;}#sk-container-id-6 div.sk-estimator:hover {background-color: #d4ebff;}#sk-container-id-6 div.sk-parallel-item::after {content: \"\";width: 100%;border-bottom: 1px solid gray;flex-grow: 1;}#sk-container-id-6 div.sk-label:hover label.sk-toggleable__label {background-color: #d4ebff;}#sk-container-id-6 div.sk-serial::before {content: \"\";position: absolute;border-left: 1px solid gray;box-sizing: border-box;top: 0;bottom: 0;left: 50%;z-index: 0;}#sk-container-id-6 div.sk-serial {display: flex;flex-direction: column;align-items: center;background-color: white;padding-right: 0.2em;padding-left: 0.2em;position: relative;}#sk-container-id-6 div.sk-item {position: relative;z-index: 1;}#sk-container-id-6 div.sk-parallel {display: flex;align-items: stretch;justify-content: center;background-color: white;position: relative;}#sk-container-id-6 div.sk-item::before, #sk-container-id-6 div.sk-parallel-item::before {content: \"\";position: absolute;border-left: 1px solid gray;box-sizing: border-box;top: 0;bottom: 0;left: 50%;z-index: -1;}#sk-container-id-6 div.sk-parallel-item {display: flex;flex-direction: column;z-index: 1;position: relative;background-color: white;}#sk-container-id-6 div.sk-parallel-item:first-child::after {align-self: flex-end;width: 50%;}#sk-container-id-6 div.sk-parallel-item:last-child::after {align-self: flex-start;width: 50%;}#sk-container-id-6 div.sk-parallel-item:only-child::after {width: 0;}#sk-container-id-6 div.sk-dashed-wrapped {border: 1px dashed gray;margin: 0 0.4em 0.5em 0.4em;box-sizing: border-box;padding-bottom: 0.4em;background-color: white;}#sk-container-id-6 div.sk-label label {font-family: monospace;font-weight: bold;display: inline-block;line-height: 1.2em;}#sk-container-id-6 div.sk-label-container {text-align: center;}#sk-container-id-6 div.sk-container {/* jupyter's `normalize.less` sets `[hidden] { display: none; }` but bootstrap.min.css set `[hidden] { display: none !important; }` so we also need the `!important` here to be able to override the default hidden behavior on the sphinx rendered scikit-learn.org. See: https://github.com/scikit-learn/scikit-learn/issues/21755 */display: inline-block !important;position: relative;}#sk-container-id-6 div.sk-text-repr-fallback {display: none;}</style><div id=\"sk-container-id-6\" class=\"sk-top-container\"><div class=\"sk-text-repr-fallback\"><pre>MultinomialNB(alpha=0.9)</pre><b>In a Jupyter environment, please rerun this cell to show the HTML representation or trust the notebook. <br />On GitHub, the HTML representation is unable to render, please try loading this page with nbviewer.org.</b></div><div class=\"sk-container\" hidden><div class=\"sk-item\"><div class=\"sk-estimator sk-toggleable\"><input class=\"sk-toggleable__control sk-hidden--visually\" id=\"sk-estimator-id-6\" type=\"checkbox\" checked><label for=\"sk-estimator-id-6\" class=\"sk-toggleable__label sk-toggleable__label-arrow\">MultinomialNB</label><div class=\"sk-toggleable__content\"><pre>MultinomialNB(alpha=0.9)</pre></div></div></div></div></div>"
            ]
          },
          "metadata": {},
          "execution_count": 241
        }
      ]
    },
    {
      "cell_type": "code",
      "source": [
        "# Make predictions on the test set\n",
        "y_pred = model.predict(x_test)"
      ],
      "metadata": {
        "id": "L1fdXwUPz6PJ"
      },
      "execution_count": 242,
      "outputs": []
    },
    {
      "cell_type": "code",
      "source": [
        "# Calculate accuracy, precision, and recall\n",
        "score1 = accuracy_score(y_test, y_pred)\n",
        "score2 = precision_score(y_test, y_pred)\n",
        "score3 = recall_score(y_test, y_pred)"
      ],
      "metadata": {
        "id": "oCd3mEykz-pa"
      },
      "execution_count": 243,
      "outputs": []
    },
    {
      "cell_type": "code",
      "source": [
        "# Print the evaluation metrics\n",
        "print(\"Accuracy score is: {} %\".format(round(score1 * 100, 2)))\n",
        "print(\"Precision score is: {} %\".format(round(score2 * 100, 2)))\n",
        "print(\"Recall score is: {} %\".format(round(score3 * 100, 2)))"
      ],
      "metadata": {
        "colab": {
          "base_uri": "https://localhost:8080/"
        },
        "id": "kgbKdJOQ0FR-",
        "outputId": "e9094202-c8c0-4b07-820c-e41c9f99bb52"
      },
      "execution_count": 244,
      "outputs": [
        {
          "output_type": "stream",
          "name": "stdout",
          "text": [
            "Accuracy score is: 82.5 %\n",
            "Precision score is: 77.14 %\n",
            "Recall score is: 88.04 %\n"
          ]
        }
      ]
    },
    {
      "cell_type": "code",
      "source": [
        "# Hyperparameter tuning for Multinomial Naive Bayes\n",
        "from sklearn.metrics import accuracy_score\n",
        "\n",
        "best_accuracy = 0.0\n",
        "alpha_val = 0.0\n",
        "\n",
        "# Iterate through different values of alpha for the Naive Bayes classifier\n",
        "for i in np.arange(0.1, 1.1, 0.1):\n",
        "    temp_classifier = MultinomialNB(alpha=i)\n",
        "    temp_classifier.fit(x_train, y_train)\n",
        "    temp_y_pred = temp_classifier.predict(x_test)\n",
        "    score = accuracy_score(y_test, temp_y_pred)\n",
        "    print(\"Accuracy score for alpha {} is: {:.2f}%\".format(round(i, 1), round(score * 100, 2)))\n",
        "\n",
        "    if score > best_accuracy:\n",
        "        best_accuracy = score\n",
        "        alpha_val = i\n",
        "\n",
        "# Print the best accuracy and corresponding alpha value\n",
        "print('------------------------')\n",
        "print('The best accuracy is {:.2f}% with alpha value as {}'.format(round(best_accuracy * 100, 2), round(alpha_val, 1)))"
      ],
      "metadata": {
        "colab": {
          "base_uri": "https://localhost:8080/"
        },
        "id": "LdxZVLc90K0z",
        "outputId": "207e7cc5-d4e1-4cf2-e251-dbbb93405d1f"
      },
      "execution_count": 240,
      "outputs": [
        {
          "output_type": "stream",
          "name": "stdout",
          "text": [
            "Accuracy score for alpha 0.1 is: 80.00%\n",
            "Accuracy score for alpha 0.2 is: 81.00%\n",
            "Accuracy score for alpha 0.3 is: 81.00%\n",
            "Accuracy score for alpha 0.4 is: 81.50%\n",
            "Accuracy score for alpha 0.5 is: 80.50%\n",
            "Accuracy score for alpha 0.6 is: 80.50%\n",
            "Accuracy score for alpha 0.7 is: 80.50%\n",
            "Accuracy score for alpha 0.8 is: 81.00%\n",
            "Accuracy score for alpha 0.9 is: 82.50%\n",
            "Accuracy score for alpha 1.0 is: 82.00%\n",
            "------------------------\n",
            "The best accuracy is 82.50% with alpha value as 0.9\n"
          ]
        }
      ]
    },
    {
      "cell_type": "code",
      "source": [
        "# Function to predict sentiment of a sample review\n",
        "def predict_sentiment(sample_review):\n",
        "    # Remove special characters and tokenize the sample review\n",
        "    sample_review = re.sub(pattern='[^a-zA-Z]', repl=' ', string=sample_review)\n",
        "    sample_review = sample_review.lower()\n",
        "    sample_review_words = sample_review.split()\n",
        "\n",
        "    # Remove stopwords and perform stemming\n",
        "    ps = PorterStemmer()\n",
        "    sample_review_words = [ps.stem(word) for word in sample_review_words if word not in set(stopwords.words('english'))]\n",
        "\n",
        "    # Join the stemmed words\n",
        "    final_review = ' '.join(sample_review_words)\n",
        "\n",
        "    # Transform the sample review into a TF-IDF vector using the pre-fitted 'cv' object\n",
        "    sample_review_vector = cv.transform([final_review]).toarray()\n",
        "\n",
        "    # Make a prediction\n",
        "    prediction = model.predict(sample_review_vector)\n",
        "\n",
        "    # Return the predicted sentiment\n",
        "    if prediction == 1:\n",
        "        return \"POSITIVE\"\n",
        "    else:\n",
        "        return \"NEGATIVE\""
      ],
      "metadata": {
        "id": "BUwGTCWN0Q7O"
      },
      "execution_count": 245,
      "outputs": []
    },
    {
      "cell_type": "code",
      "source": [
        "# Sample review\n",
        "sample_review = 'The food was really bad'\n",
        "\n",
        "# Predict the sentiment of the sample review\n",
        "predicted_sentiment = predict_sentiment(sample_review)\n",
        "\n",
        "# Print the predicted sentiment\n",
        "print(\"This is a {} review.\".format(predicted_sentiment))"
      ],
      "metadata": {
        "colab": {
          "base_uri": "https://localhost:8080/"
        },
        "id": "_5HMObYp0ZGx",
        "outputId": "cedc3c00-a15b-459b-8782-49b12a7b6f69"
      },
      "execution_count": 252,
      "outputs": [
        {
          "output_type": "stream",
          "name": "stdout",
          "text": [
            "This is a NEGATIVE review.\n"
          ]
        }
      ]
    }
  ]
}